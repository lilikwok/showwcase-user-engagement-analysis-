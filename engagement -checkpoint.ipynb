{
 "cells": [
  {
   "cell_type": "markdown",
   "metadata": {},
   "source": [
    "# 1. import Package "
   ]
  },
  {
   "cell_type": "code",
   "execution_count": 2,
   "metadata": {},
   "outputs": [
    {
     "name": "stderr",
     "output_type": "stream",
     "text": [
      "C:\\Users\\guoqi\\Anaconda3\\lib\\site-packages\\statsmodels\\tools\\_testing.py:19: FutureWarning: pandas.util.testing is deprecated. Use the functions in the public API at pandas.testing instead.\n",
      "  import pandas.util.testing as tm\n"
     ]
    }
   ],
   "source": [
    "import pandas as pd \n",
    "import numpy as np \n",
    "import matplotlib.pyplot as plt \n",
    "import seaborn as sns # heatmap"
   ]
  },
  {
   "cell_type": "markdown",
   "metadata": {},
   "source": [
    "# 2. import Data"
   ]
  },
  {
   "cell_type": "markdown",
   "metadata": {},
   "source": []
  },
  {
   "cell_type": "code",
   "execution_count": 5,
   "metadata": {},
   "outputs": [],
   "source": [
    "df = pd.read_csv('showwcase_sessions.csv')"
   ]
  },
  {
   "cell_type": "markdown",
   "metadata": {},
   "source": [
    "# 3. Explore Data"
   ]
  },
  {
   "cell_type": "markdown",
   "metadata": {},
   "source": [
    "## 3.1 Basic Data Info"
   ]
  },
  {
   "cell_type": "code",
   "execution_count": 6,
   "metadata": {},
   "outputs": [
    {
     "data": {
      "text/html": [
       "<div>\n",
       "<style scoped>\n",
       "    .dataframe tbody tr th:only-of-type {\n",
       "        vertical-align: middle;\n",
       "    }\n",
       "\n",
       "    .dataframe tbody tr th {\n",
       "        vertical-align: top;\n",
       "    }\n",
       "\n",
       "    .dataframe thead th {\n",
       "        text-align: right;\n",
       "    }\n",
       "</style>\n",
       "<table border=\"1\" class=\"dataframe\">\n",
       "  <thead>\n",
       "    <tr style=\"text-align: right;\">\n",
       "      <th></th>\n",
       "      <th>session_id</th>\n",
       "      <th>customer_id</th>\n",
       "      <th>login_date</th>\n",
       "      <th>projects_added</th>\n",
       "      <th>likes_given</th>\n",
       "      <th>comment_given</th>\n",
       "      <th>inactive_status</th>\n",
       "      <th>bug_occured</th>\n",
       "      <th>session_projects_added</th>\n",
       "      <th>session_likes_given</th>\n",
       "      <th>session_comments_given</th>\n",
       "      <th>inactive_duration</th>\n",
       "      <th>bugs_in_session</th>\n",
       "      <th>session_duration</th>\n",
       "    </tr>\n",
       "  </thead>\n",
       "  <tbody>\n",
       "    <tr>\n",
       "      <th>0</th>\n",
       "      <td>624205</td>\n",
       "      <td>80746</td>\n",
       "      <td>10/30/2019</td>\n",
       "      <td>False</td>\n",
       "      <td>True</td>\n",
       "      <td>True</td>\n",
       "      <td>True</td>\n",
       "      <td>False</td>\n",
       "      <td>0</td>\n",
       "      <td>24.0</td>\n",
       "      <td>3</td>\n",
       "      <td>1146</td>\n",
       "      <td>0</td>\n",
       "      <td>1564</td>\n",
       "    </tr>\n",
       "    <tr>\n",
       "      <th>1</th>\n",
       "      <td>624241</td>\n",
       "      <td>24520</td>\n",
       "      <td>10/30/2019</td>\n",
       "      <td>True</td>\n",
       "      <td>True</td>\n",
       "      <td>True</td>\n",
       "      <td>True</td>\n",
       "      <td>False</td>\n",
       "      <td>2</td>\n",
       "      <td>3.0</td>\n",
       "      <td>5</td>\n",
       "      <td>133</td>\n",
       "      <td>0</td>\n",
       "      <td>1766</td>\n",
       "    </tr>\n",
       "    <tr>\n",
       "      <th>2</th>\n",
       "      <td>111002</td>\n",
       "      <td>32047</td>\n",
       "      <td>10/30/2019</td>\n",
       "      <td>True</td>\n",
       "      <td>True</td>\n",
       "      <td>True</td>\n",
       "      <td>True</td>\n",
       "      <td>False</td>\n",
       "      <td>1</td>\n",
       "      <td>5.0</td>\n",
       "      <td>5</td>\n",
       "      <td>1571</td>\n",
       "      <td>0</td>\n",
       "      <td>2230</td>\n",
       "    </tr>\n",
       "    <tr>\n",
       "      <th>3</th>\n",
       "      <td>545113</td>\n",
       "      <td>23404</td>\n",
       "      <td>10/30/2019</td>\n",
       "      <td>True</td>\n",
       "      <td>True</td>\n",
       "      <td>True</td>\n",
       "      <td>False</td>\n",
       "      <td>False</td>\n",
       "      <td>1</td>\n",
       "      <td>10.0</td>\n",
       "      <td>21</td>\n",
       "      <td>0</td>\n",
       "      <td>0</td>\n",
       "      <td>633</td>\n",
       "    </tr>\n",
       "    <tr>\n",
       "      <th>4</th>\n",
       "      <td>750269</td>\n",
       "      <td>40235</td>\n",
       "      <td>10/30/2019</td>\n",
       "      <td>True</td>\n",
       "      <td>True</td>\n",
       "      <td>False</td>\n",
       "      <td>True</td>\n",
       "      <td>False</td>\n",
       "      <td>3</td>\n",
       "      <td>16.0</td>\n",
       "      <td>0</td>\n",
       "      <td>1405</td>\n",
       "      <td>0</td>\n",
       "      <td>1679</td>\n",
       "    </tr>\n",
       "  </tbody>\n",
       "</table>\n",
       "</div>"
      ],
      "text/plain": [
       "   session_id  customer_id  login_date  projects_added  likes_given  \\\n",
       "0      624205        80746  10/30/2019           False         True   \n",
       "1      624241        24520  10/30/2019            True         True   \n",
       "2      111002        32047  10/30/2019            True         True   \n",
       "3      545113        23404  10/30/2019            True         True   \n",
       "4      750269        40235  10/30/2019            True         True   \n",
       "\n",
       "   comment_given  inactive_status  bug_occured  session_projects_added  \\\n",
       "0           True             True        False                       0   \n",
       "1           True             True        False                       2   \n",
       "2           True             True        False                       1   \n",
       "3           True            False        False                       1   \n",
       "4          False             True        False                       3   \n",
       "\n",
       "   session_likes_given  session_comments_given  inactive_duration  \\\n",
       "0                 24.0                       3               1146   \n",
       "1                  3.0                       5                133   \n",
       "2                  5.0                       5               1571   \n",
       "3                 10.0                      21                  0   \n",
       "4                 16.0                       0               1405   \n",
       "\n",
       "   bugs_in_session  session_duration  \n",
       "0                0              1564  \n",
       "1                0              1766  \n",
       "2                0              2230  \n",
       "3                0               633  \n",
       "4                0              1679  "
      ]
     },
     "execution_count": 6,
     "metadata": {},
     "output_type": "execute_result"
    }
   ],
   "source": [
    "# first five rows \n",
    "df.head(5)"
   ]
  },
  {
   "cell_type": "code",
   "execution_count": 7,
   "metadata": {},
   "outputs": [
    {
     "data": {
      "text/plain": [
       "300"
      ]
     },
     "execution_count": 7,
     "metadata": {},
     "output_type": "execute_result"
    }
   ],
   "source": [
    "# number of rows \n",
    "len(df)"
   ]
  },
  {
   "cell_type": "code",
   "execution_count": 58,
   "metadata": {},
   "outputs": [
    {
     "data": {
      "text/html": [
       "<div>\n",
       "<style scoped>\n",
       "    .dataframe tbody tr th:only-of-type {\n",
       "        vertical-align: middle;\n",
       "    }\n",
       "\n",
       "    .dataframe tbody tr th {\n",
       "        vertical-align: top;\n",
       "    }\n",
       "\n",
       "    .dataframe thead th {\n",
       "        text-align: right;\n",
       "    }\n",
       "</style>\n",
       "<table border=\"1\" class=\"dataframe\">\n",
       "  <thead>\n",
       "    <tr style=\"text-align: right;\">\n",
       "      <th></th>\n",
       "      <th>session_id</th>\n",
       "      <th>customer_id</th>\n",
       "      <th>login_date</th>\n",
       "      <th>projects_added</th>\n",
       "      <th>likes_given</th>\n",
       "      <th>comment_given</th>\n",
       "      <th>inactive_status</th>\n",
       "      <th>bug_occured</th>\n",
       "      <th>session_projects_added</th>\n",
       "      <th>session_likes_given</th>\n",
       "      <th>session_comments_given</th>\n",
       "      <th>inactive_duration</th>\n",
       "      <th>bugs_in_session</th>\n",
       "      <th>session_duration</th>\n",
       "    </tr>\n",
       "  </thead>\n",
       "  <tbody>\n",
       "    <tr>\n",
       "      <th>5</th>\n",
       "      <td>744943</td>\n",
       "      <td>73245</td>\n",
       "      <td>2019-10-30</td>\n",
       "      <td>True</td>\n",
       "      <td>True</td>\n",
       "      <td>True</td>\n",
       "      <td>True</td>\n",
       "      <td>True</td>\n",
       "      <td>3</td>\n",
       "      <td>27.0</td>\n",
       "      <td>5</td>\n",
       "      <td>1746</td>\n",
       "      <td>4</td>\n",
       "      <td>1490</td>\n",
       "    </tr>\n",
       "    <tr>\n",
       "      <th>7</th>\n",
       "      <td>823895</td>\n",
       "      <td>29375</td>\n",
       "      <td>2019-10-30</td>\n",
       "      <td>False</td>\n",
       "      <td>False</td>\n",
       "      <td>True</td>\n",
       "      <td>True</td>\n",
       "      <td>False</td>\n",
       "      <td>0</td>\n",
       "      <td>0.0</td>\n",
       "      <td>5</td>\n",
       "      <td>2474</td>\n",
       "      <td>0</td>\n",
       "      <td>1875</td>\n",
       "    </tr>\n",
       "    <tr>\n",
       "      <th>9</th>\n",
       "      <td>919319</td>\n",
       "      <td>23404</td>\n",
       "      <td>2019-10-29</td>\n",
       "      <td>True</td>\n",
       "      <td>True</td>\n",
       "      <td>False</td>\n",
       "      <td>True</td>\n",
       "      <td>False</td>\n",
       "      <td>2</td>\n",
       "      <td>14.0</td>\n",
       "      <td>0</td>\n",
       "      <td>2031</td>\n",
       "      <td>0</td>\n",
       "      <td>1957</td>\n",
       "    </tr>\n",
       "    <tr>\n",
       "      <th>11</th>\n",
       "      <td>362558</td>\n",
       "      <td>40572</td>\n",
       "      <td>2019-10-29</td>\n",
       "      <td>True</td>\n",
       "      <td>True</td>\n",
       "      <td>True</td>\n",
       "      <td>True</td>\n",
       "      <td>False</td>\n",
       "      <td>3</td>\n",
       "      <td>19.0</td>\n",
       "      <td>3</td>\n",
       "      <td>2148</td>\n",
       "      <td>0</td>\n",
       "      <td>187</td>\n",
       "    </tr>\n",
       "    <tr>\n",
       "      <th>14</th>\n",
       "      <td>730021</td>\n",
       "      <td>23083</td>\n",
       "      <td>2019-10-29</td>\n",
       "      <td>True</td>\n",
       "      <td>True</td>\n",
       "      <td>True</td>\n",
       "      <td>True</td>\n",
       "      <td>False</td>\n",
       "      <td>1</td>\n",
       "      <td>3.0</td>\n",
       "      <td>2</td>\n",
       "      <td>2047</td>\n",
       "      <td>0</td>\n",
       "      <td>1736</td>\n",
       "    </tr>\n",
       "    <tr>\n",
       "      <th>...</th>\n",
       "      <td>...</td>\n",
       "      <td>...</td>\n",
       "      <td>...</td>\n",
       "      <td>...</td>\n",
       "      <td>...</td>\n",
       "      <td>...</td>\n",
       "      <td>...</td>\n",
       "      <td>...</td>\n",
       "      <td>...</td>\n",
       "      <td>...</td>\n",
       "      <td>...</td>\n",
       "      <td>...</td>\n",
       "      <td>...</td>\n",
       "      <td>...</td>\n",
       "    </tr>\n",
       "    <tr>\n",
       "      <th>273</th>\n",
       "      <td>401728</td>\n",
       "      <td>12940</td>\n",
       "      <td>2019-10-04</td>\n",
       "      <td>False</td>\n",
       "      <td>True</td>\n",
       "      <td>True</td>\n",
       "      <td>True</td>\n",
       "      <td>False</td>\n",
       "      <td>0</td>\n",
       "      <td>11.0</td>\n",
       "      <td>1</td>\n",
       "      <td>1543</td>\n",
       "      <td>0</td>\n",
       "      <td>557</td>\n",
       "    </tr>\n",
       "    <tr>\n",
       "      <th>276</th>\n",
       "      <td>682794</td>\n",
       "      <td>23404</td>\n",
       "      <td>2019-10-03</td>\n",
       "      <td>True</td>\n",
       "      <td>True</td>\n",
       "      <td>True</td>\n",
       "      <td>True</td>\n",
       "      <td>True</td>\n",
       "      <td>2</td>\n",
       "      <td>11.0</td>\n",
       "      <td>4</td>\n",
       "      <td>2343</td>\n",
       "      <td>5</td>\n",
       "      <td>1956</td>\n",
       "    </tr>\n",
       "    <tr>\n",
       "      <th>277</th>\n",
       "      <td>557880</td>\n",
       "      <td>40235</td>\n",
       "      <td>2019-10-03</td>\n",
       "      <td>True</td>\n",
       "      <td>True</td>\n",
       "      <td>True</td>\n",
       "      <td>True</td>\n",
       "      <td>False</td>\n",
       "      <td>3</td>\n",
       "      <td>1.0</td>\n",
       "      <td>1</td>\n",
       "      <td>2428</td>\n",
       "      <td>0</td>\n",
       "      <td>1114</td>\n",
       "    </tr>\n",
       "    <tr>\n",
       "      <th>290</th>\n",
       "      <td>187302</td>\n",
       "      <td>12407</td>\n",
       "      <td>2019-10-02</td>\n",
       "      <td>True</td>\n",
       "      <td>False</td>\n",
       "      <td>False</td>\n",
       "      <td>True</td>\n",
       "      <td>False</td>\n",
       "      <td>3</td>\n",
       "      <td>0.0</td>\n",
       "      <td>0</td>\n",
       "      <td>1749</td>\n",
       "      <td>0</td>\n",
       "      <td>464</td>\n",
       "    </tr>\n",
       "    <tr>\n",
       "      <th>293</th>\n",
       "      <td>811956</td>\n",
       "      <td>14354</td>\n",
       "      <td>2019-10-01</td>\n",
       "      <td>True</td>\n",
       "      <td>False</td>\n",
       "      <td>False</td>\n",
       "      <td>True</td>\n",
       "      <td>False</td>\n",
       "      <td>2</td>\n",
       "      <td>0.0</td>\n",
       "      <td>0</td>\n",
       "      <td>1362</td>\n",
       "      <td>0</td>\n",
       "      <td>866</td>\n",
       "    </tr>\n",
       "  </tbody>\n",
       "</table>\n",
       "<p>88 rows × 14 columns</p>\n",
       "</div>"
      ],
      "text/plain": [
       "     session_id  customer_id login_date  projects_added  likes_given  \\\n",
       "5        744943        73245 2019-10-30            True         True   \n",
       "7        823895        29375 2019-10-30           False        False   \n",
       "9        919319        23404 2019-10-29            True         True   \n",
       "11       362558        40572 2019-10-29            True         True   \n",
       "14       730021        23083 2019-10-29            True         True   \n",
       "..          ...          ...        ...             ...          ...   \n",
       "273      401728        12940 2019-10-04           False         True   \n",
       "276      682794        23404 2019-10-03            True         True   \n",
       "277      557880        40235 2019-10-03            True         True   \n",
       "290      187302        12407 2019-10-02            True        False   \n",
       "293      811956        14354 2019-10-01            True        False   \n",
       "\n",
       "     comment_given  inactive_status  bug_occured  session_projects_added  \\\n",
       "5             True             True         True                       3   \n",
       "7             True             True        False                       0   \n",
       "9            False             True        False                       2   \n",
       "11            True             True        False                       3   \n",
       "14            True             True        False                       1   \n",
       "..             ...              ...          ...                     ...   \n",
       "273           True             True        False                       0   \n",
       "276           True             True         True                       2   \n",
       "277           True             True        False                       3   \n",
       "290          False             True        False                       3   \n",
       "293          False             True        False                       2   \n",
       "\n",
       "     session_likes_given  session_comments_given  inactive_duration  \\\n",
       "5                   27.0                       5               1746   \n",
       "7                    0.0                       5               2474   \n",
       "9                   14.0                       0               2031   \n",
       "11                  19.0                       3               2148   \n",
       "14                   3.0                       2               2047   \n",
       "..                   ...                     ...                ...   \n",
       "273                 11.0                       1               1543   \n",
       "276                 11.0                       4               2343   \n",
       "277                  1.0                       1               2428   \n",
       "290                  0.0                       0               1749   \n",
       "293                  0.0                       0               1362   \n",
       "\n",
       "     bugs_in_session  session_duration  \n",
       "5                  4              1490  \n",
       "7                  0              1875  \n",
       "9                  0              1957  \n",
       "11                 0               187  \n",
       "14                 0              1736  \n",
       "..               ...               ...  \n",
       "273                0               557  \n",
       "276                5              1956  \n",
       "277                0              1114  \n",
       "290                0               464  \n",
       "293                0               866  \n",
       "\n",
       "[88 rows x 14 columns]"
      ]
     },
     "execution_count": 58,
     "metadata": {},
     "output_type": "execute_result"
    }
   ],
   "source": [
    "len(df['session_id'].unique()) == 300\n",
    "# session_id is the unique identifier"
   ]
  },
  {
   "cell_type": "code",
   "execution_count": 74,
   "metadata": {},
   "outputs": [
    {
     "data": {
      "text/plain": [
       "48"
      ]
     },
     "execution_count": 74,
     "metadata": {},
     "output_type": "execute_result"
    }
   ],
   "source": [
    "# number of customer\n",
    "len(df['customer_id'].unique())\n"
   ]
  },
  {
   "cell_type": "code",
   "execution_count": 81,
   "metadata": {
    "scrolled": true
   },
   "outputs": [
    {
     "data": {
      "text/plain": [
       "29375    22\n",
       "23404    21\n",
       "38459    18\n",
       "40235    17\n",
       "87323    17\n",
       "40572    16\n",
       "14354    15\n",
       "73245    15\n",
       "51243    12\n",
       "87265    12\n",
       "23083    11\n",
       "23985     8\n",
       "12407     8\n",
       "73524     8\n",
       "34574     7\n",
       "43549     7\n",
       "96254     7\n",
       "43057     6\n",
       "12496     6\n",
       "29356     6\n",
       "98653     6\n",
       "12940     5\n",
       "23579     5\n",
       "43086     5\n",
       "93464     4\n",
       "39475     4\n",
       "80746     4\n",
       "10246     4\n",
       "32047     4\n",
       "24520     2\n",
       "68754     1\n",
       "23596     1\n",
       "82963     1\n",
       "76530     1\n",
       "19374     1\n",
       "98476     1\n",
       "98346     1\n",
       "23457     1\n",
       "93486     1\n",
       "43658     1\n",
       "33496     1\n",
       "19348     1\n",
       "92736     1\n",
       "20548     1\n",
       "46329     1\n",
       "23548     1\n",
       "29345     1\n",
       "43096     1\n",
       "Name: customer_id, dtype: int64"
      ]
     },
     "execution_count": 81,
     "metadata": {},
     "output_type": "execute_result"
    }
   ],
   "source": [
    "# number of sessions by customers \n",
    "df['customer_id'].value_counts()\n"
   ]
  },
  {
   "cell_type": "markdown",
   "metadata": {},
   "source": [
    "There are 48 customer. \n",
    "The most engaged users has logged in the showwcase website for 22 times. "
   ]
  },
  {
   "cell_type": "markdown",
   "metadata": {},
   "source": [
    "## 3.2 Data Cleansing  "
   ]
  },
  {
   "cell_type": "markdown",
   "metadata": {},
   "source": [
    "### 3.2.1 Missing Value "
   ]
  },
  {
   "cell_type": "code",
   "execution_count": 9,
   "metadata": {},
   "outputs": [
    {
     "data": {
      "text/plain": [
       "session_id                0\n",
       "customer_id               0\n",
       "login_date                0\n",
       "projects_added            0\n",
       "likes_given               0\n",
       "comment_given             0\n",
       "inactive_status           0\n",
       "bug_occured               0\n",
       "session_projects_added    0\n",
       "session_likes_given       1\n",
       "session_comments_given    0\n",
       "inactive_duration         0\n",
       "bugs_in_session           0\n",
       "session_duration          0\n",
       "dtype: int64"
      ]
     },
     "execution_count": 9,
     "metadata": {},
     "output_type": "execute_result"
    }
   ],
   "source": [
    "# check missing value \n",
    "df.isnull().sum()\n"
   ]
  },
  {
   "cell_type": "markdown",
   "metadata": {},
   "source": [
    "we found there's a null value in session_likes_given"
   ]
  },
  {
   "cell_type": "code",
   "execution_count": 18,
   "metadata": {},
   "outputs": [
    {
     "data": {
      "text/html": [
       "<div>\n",
       "<style scoped>\n",
       "    .dataframe tbody tr th:only-of-type {\n",
       "        vertical-align: middle;\n",
       "    }\n",
       "\n",
       "    .dataframe tbody tr th {\n",
       "        vertical-align: top;\n",
       "    }\n",
       "\n",
       "    .dataframe thead th {\n",
       "        text-align: right;\n",
       "    }\n",
       "</style>\n",
       "<table border=\"1\" class=\"dataframe\">\n",
       "  <thead>\n",
       "    <tr style=\"text-align: right;\">\n",
       "      <th></th>\n",
       "      <th>session_id</th>\n",
       "      <th>customer_id</th>\n",
       "      <th>login_date</th>\n",
       "      <th>projects_added</th>\n",
       "      <th>likes_given</th>\n",
       "      <th>comment_given</th>\n",
       "      <th>inactive_status</th>\n",
       "      <th>bug_occured</th>\n",
       "      <th>session_projects_added</th>\n",
       "      <th>session_likes_given</th>\n",
       "      <th>session_comments_given</th>\n",
       "      <th>inactive_duration</th>\n",
       "      <th>bugs_in_session</th>\n",
       "      <th>session_duration</th>\n",
       "    </tr>\n",
       "  </thead>\n",
       "  <tbody>\n",
       "    <tr>\n",
       "      <th>35</th>\n",
       "      <td>862128</td>\n",
       "      <td>23404</td>\n",
       "      <td>10/26/2019</td>\n",
       "      <td>True</td>\n",
       "      <td>False</td>\n",
       "      <td>True</td>\n",
       "      <td>True</td>\n",
       "      <td>False</td>\n",
       "      <td>2</td>\n",
       "      <td>NaN</td>\n",
       "      <td>2</td>\n",
       "      <td>1120</td>\n",
       "      <td>0</td>\n",
       "      <td>95</td>\n",
       "    </tr>\n",
       "  </tbody>\n",
       "</table>\n",
       "</div>"
      ],
      "text/plain": [
       "    session_id  customer_id  login_date  projects_added  likes_given  \\\n",
       "35      862128        23404  10/26/2019            True        False   \n",
       "\n",
       "    comment_given  inactive_status  bug_occured  session_projects_added  \\\n",
       "35           True             True        False                       2   \n",
       "\n",
       "    session_likes_given  session_comments_given  inactive_duration  \\\n",
       "35                  NaN                       2               1120   \n",
       "\n",
       "    bugs_in_session  session_duration  \n",
       "35                0                95  "
      ]
     },
     "execution_count": 18,
     "metadata": {},
     "output_type": "execute_result"
    }
   ],
   "source": [
    "# check the row where the null value is \n",
    "df.loc[df['session_likes_given'].isnull()]"
   ]
  },
  {
   "cell_type": "code",
   "execution_count": 19,
   "metadata": {},
   "outputs": [
    {
     "data": {
      "text/plain": [
       "session_id                0\n",
       "customer_id               0\n",
       "login_date                0\n",
       "projects_added            0\n",
       "likes_given               0\n",
       "comment_given             0\n",
       "inactive_status           0\n",
       "bug_occured               0\n",
       "session_projects_added    0\n",
       "session_likes_given       0\n",
       "session_comments_given    0\n",
       "inactive_duration         0\n",
       "bugs_in_session           0\n",
       "session_duration          0\n",
       "dtype: int64"
      ]
     },
     "execution_count": 19,
     "metadata": {},
     "output_type": "execute_result"
    }
   ],
   "source": [
    "# as we found likes_given is False, then set the session_likes_given as 0 \n",
    "df.loc[df['session_likes_given'].isnull(), 'session_likes_given'] = 0 \n",
    "# check the null value again \n",
    "df.isnull().sum()"
   ]
  },
  {
   "cell_type": "markdown",
   "metadata": {},
   "source": [
    "### 3.2.2 change Data Type "
   ]
  },
  {
   "cell_type": "code",
   "execution_count": 21,
   "metadata": {},
   "outputs": [
    {
     "data": {
      "text/plain": [
       "session_id                  int64\n",
       "customer_id                 int64\n",
       "login_date                 object\n",
       "projects_added               bool\n",
       "likes_given                  bool\n",
       "comment_given                bool\n",
       "inactive_status              bool\n",
       "bug_occured                  bool\n",
       "session_projects_added      int64\n",
       "session_likes_given       float64\n",
       "session_comments_given      int64\n",
       "inactive_duration           int64\n",
       "bugs_in_session             int64\n",
       "session_duration            int64\n",
       "dtype: object"
      ]
     },
     "execution_count": 21,
     "metadata": {},
     "output_type": "execute_result"
    }
   ],
   "source": [
    "df.dtypes"
   ]
  },
  {
   "cell_type": "code",
   "execution_count": 23,
   "metadata": {},
   "outputs": [],
   "source": [
    "# change login_date to datetime \n",
    "df['login_date'] = pd.to_datetime(df['login_date'])"
   ]
  },
  {
   "cell_type": "markdown",
   "metadata": {},
   "source": [
    "### 3.2.3 check data consistency \n"
   ]
  },
  {
   "cell_type": "code",
   "execution_count": 31,
   "metadata": {},
   "outputs": [
    {
     "data": {
      "text/plain": [
       "True"
      ]
     },
     "execution_count": 31,
     "metadata": {},
     "output_type": "execute_result"
    }
   ],
   "source": [
    "# check data consistency (if projects_added is 0, then session_projects_added must be 0)\n",
    "np.all(df.loc[df['projects_added'] == False, 'session_projects_added'] == 0 )"
   ]
  },
  {
   "cell_type": "code",
   "execution_count": 32,
   "metadata": {},
   "outputs": [
    {
     "data": {
      "text/plain": [
       "True"
      ]
     },
     "execution_count": 32,
     "metadata": {},
     "output_type": "execute_result"
    }
   ],
   "source": [
    "np.all(df.loc[df['likes_given'] == False, 'session_likes_given'] == 0 )"
   ]
  },
  {
   "cell_type": "code",
   "execution_count": 33,
   "metadata": {},
   "outputs": [
    {
     "data": {
      "text/plain": [
       "True"
      ]
     },
     "execution_count": 33,
     "metadata": {},
     "output_type": "execute_result"
    }
   ],
   "source": [
    "np.all(df.loc[df['comment_given'] == False, 'session_comments_given'] == 0 )"
   ]
  },
  {
   "cell_type": "code",
   "execution_count": 34,
   "metadata": {},
   "outputs": [
    {
     "data": {
      "text/plain": [
       "True"
      ]
     },
     "execution_count": 34,
     "metadata": {},
     "output_type": "execute_result"
    }
   ],
   "source": [
    "np.all(df.loc[df['inactive_status'] == False, 'inactive_duration'] == 0 )"
   ]
  },
  {
   "cell_type": "code",
   "execution_count": 35,
   "metadata": {
    "scrolled": true
   },
   "outputs": [
    {
     "data": {
      "text/plain": [
       "True"
      ]
     },
     "execution_count": 35,
     "metadata": {},
     "output_type": "execute_result"
    }
   ],
   "source": [
    "np.all(df.loc[df['bug_occured'] == False, 'bugs_in_session'] == 0 )"
   ]
  },
  {
   "cell_type": "markdown",
   "metadata": {},
   "source": [
    "## 3.3 Exploratory Data Analysis "
   ]
  },
  {
   "cell_type": "code",
   "execution_count": 78,
   "metadata": {},
   "outputs": [],
   "source": [
    "categorical  = ['projects_added','likes_given','comment_given','inactive_status','bug_occured']"
   ]
  },
  {
   "cell_type": "code",
   "execution_count": 55,
   "metadata": {},
   "outputs": [],
   "source": [
    "numeric = ['session_projects_added','session_likes_given','session_comments_given','inactive_duration', 'bugs_in_session','session_duration']"
   ]
  },
  {
   "cell_type": "markdown",
   "metadata": {},
   "source": [
    "### 3.3.1 Univariate Analysis "
   ]
  },
  {
   "cell_type": "markdown",
   "metadata": {},
   "source": [
    "#### categorical Variables "
   ]
  },
  {
   "cell_type": "code",
   "execution_count": 79,
   "metadata": {},
   "outputs": [
    {
     "name": "stdout",
     "output_type": "stream",
     "text": [
      "True     227\n",
      "False     73\n",
      "Name: projects_added, dtype: int64\n",
      "True     213\n",
      "False     87\n",
      "Name: likes_given, dtype: int64\n",
      "True     225\n",
      "False     75\n",
      "Name: comment_given, dtype: int64\n",
      "True     172\n",
      "False    128\n",
      "Name: inactive_status, dtype: int64\n",
      "False    184\n",
      "True     116\n",
      "Name: bug_occured, dtype: int64\n"
     ]
    }
   ],
   "source": [
    "for i in categorical: \n",
    "    print(df[i].value_counts())"
   ]
  },
  {
   "cell_type": "code",
   "execution_count": 80,
   "metadata": {},
   "outputs": [
    {
     "data": {
      "image/png": "[encoded data removed]",
      "text/plain": [
       "<Figure size 432x288 with 1 Axes>"
      ]
     },
     "metadata": {
      "needs_background": "light"
     },
     "output_type": "display_data"
    },
    {
     "data": {
      "image/png": "[encoded data removed]",
      "text/plain": [
       "<Figure size 432x288 with 1 Axes>"
      ]
     },
     "metadata": {
      "needs_background": "light"
     },
     "output_type": "display_data"
    },
    {
     "data": {
      "image/png": "[encoded data removed]",
      "text/plain": [
       "<Figure size 432x288 with 1 Axes>"
      ]
     },
     "metadata": {
      "needs_background": "light"
     },
     "output_type": "display_data"
    },
    {
     "data": {
      "image/png": "[encoded data removed]",
      "text/plain": [
       "<Figure size 432x288 with 1 Axes>"
      ]
     },
     "metadata": {
      "needs_background": "light"
     },
     "output_type": "display_data"
    },
    {
     "data": {
      "image/png": "[encoded data removed]",
      "text/plain": [
       "<Figure size 432x288 with 1 Axes>"
      ]
     },
     "metadata": {
      "needs_background": "light"
     },
     "output_type": "display_data"
    }
   ],
   "source": [
    "for i in categorical: \n",
    "    sns.countplot(x = i, data = df)\n",
    "    plt.show()"
   ]
  },
  {
   "cell_type": "markdown",
   "metadata": {},
   "source": [
    "Finding: \n",
    "- Most of the users added proejct, gave likes adn gave comment in a section. But a majority of users were inactive during the session. More than 1/3 sessions had bugs "
   ]
  },
  {
   "cell_type": "markdown",
   "metadata": {},
   "source": [
    "#### Numerical "
   ]
  },
  {
   "cell_type": "markdown",
   "metadata": {},
   "source": []
  },
  {
   "cell_type": "code",
   "execution_count": 56,
   "metadata": {},
   "outputs": [
    {
     "data": {
      "text/html": [
       "<div>\n",
       "<style scoped>\n",
       "    .dataframe tbody tr th:only-of-type {\n",
       "        vertical-align: middle;\n",
       "    }\n",
       "\n",
       "    .dataframe tbody tr th {\n",
       "        vertical-align: top;\n",
       "    }\n",
       "\n",
       "    .dataframe thead th {\n",
       "        text-align: right;\n",
       "    }\n",
       "</style>\n",
       "<table border=\"1\" class=\"dataframe\">\n",
       "  <thead>\n",
       "    <tr style=\"text-align: right;\">\n",
       "      <th></th>\n",
       "      <th>session_projects_added</th>\n",
       "      <th>session_likes_given</th>\n",
       "      <th>session_comments_given</th>\n",
       "      <th>inactive_duration</th>\n",
       "      <th>bugs_in_session</th>\n",
       "      <th>session_duration</th>\n",
       "    </tr>\n",
       "  </thead>\n",
       "  <tbody>\n",
       "    <tr>\n",
       "      <th>count</th>\n",
       "      <td>300.000000</td>\n",
       "      <td>300.000000</td>\n",
       "      <td>300.000000</td>\n",
       "      <td>300.000000</td>\n",
       "      <td>300.000000</td>\n",
       "      <td>300.000000</td>\n",
       "    </tr>\n",
       "    <tr>\n",
       "      <th>mean</th>\n",
       "      <td>1.620000</td>\n",
       "      <td>10.423333</td>\n",
       "      <td>2.406667</td>\n",
       "      <td>732.933333</td>\n",
       "      <td>1.233333</td>\n",
       "      <td>1186.763333</td>\n",
       "    </tr>\n",
       "    <tr>\n",
       "      <th>std</th>\n",
       "      <td>1.334743</td>\n",
       "      <td>9.478234</td>\n",
       "      <td>2.247545</td>\n",
       "      <td>838.143032</td>\n",
       "      <td>1.757608</td>\n",
       "      <td>688.632138</td>\n",
       "    </tr>\n",
       "    <tr>\n",
       "      <th>min</th>\n",
       "      <td>0.000000</td>\n",
       "      <td>0.000000</td>\n",
       "      <td>0.000000</td>\n",
       "      <td>0.000000</td>\n",
       "      <td>0.000000</td>\n",
       "      <td>10.000000</td>\n",
       "    </tr>\n",
       "    <tr>\n",
       "      <th>25%</th>\n",
       "      <td>1.000000</td>\n",
       "      <td>0.000000</td>\n",
       "      <td>0.750000</td>\n",
       "      <td>0.000000</td>\n",
       "      <td>0.000000</td>\n",
       "      <td>611.250000</td>\n",
       "    </tr>\n",
       "    <tr>\n",
       "      <th>50%</th>\n",
       "      <td>2.000000</td>\n",
       "      <td>9.000000</td>\n",
       "      <td>2.000000</td>\n",
       "      <td>313.500000</td>\n",
       "      <td>0.000000</td>\n",
       "      <td>1152.000000</td>\n",
       "    </tr>\n",
       "    <tr>\n",
       "      <th>75%</th>\n",
       "      <td>3.000000</td>\n",
       "      <td>19.000000</td>\n",
       "      <td>4.000000</td>\n",
       "      <td>1524.750000</td>\n",
       "      <td>2.250000</td>\n",
       "      <td>1778.000000</td>\n",
       "    </tr>\n",
       "    <tr>\n",
       "      <th>max</th>\n",
       "      <td>9.000000</td>\n",
       "      <td>27.000000</td>\n",
       "      <td>21.000000</td>\n",
       "      <td>2480.000000</td>\n",
       "      <td>5.000000</td>\n",
       "      <td>2395.000000</td>\n",
       "    </tr>\n",
       "  </tbody>\n",
       "</table>\n",
       "</div>"
      ],
      "text/plain": [
       "       session_projects_added  session_likes_given  session_comments_given  \\\n",
       "count              300.000000           300.000000              300.000000   \n",
       "mean                 1.620000            10.423333                2.406667   \n",
       "std                  1.334743             9.478234                2.247545   \n",
       "min                  0.000000             0.000000                0.000000   \n",
       "25%                  1.000000             0.000000                0.750000   \n",
       "50%                  2.000000             9.000000                2.000000   \n",
       "75%                  3.000000            19.000000                4.000000   \n",
       "max                  9.000000            27.000000               21.000000   \n",
       "\n",
       "       inactive_duration  bugs_in_session  session_duration  \n",
       "count         300.000000       300.000000        300.000000  \n",
       "mean          732.933333         1.233333       1186.763333  \n",
       "std           838.143032         1.757608        688.632138  \n",
       "min             0.000000         0.000000         10.000000  \n",
       "25%             0.000000         0.000000        611.250000  \n",
       "50%           313.500000         0.000000       1152.000000  \n",
       "75%          1524.750000         2.250000       1778.000000  \n",
       "max          2480.000000         5.000000       2395.000000  "
      ]
     },
     "execution_count": 56,
     "metadata": {},
     "output_type": "execute_result"
    }
   ],
   "source": [
    "df[numeric].describe()"
   ]
  },
  {
   "cell_type": "code",
   "execution_count": 63,
   "metadata": {},
   "outputs": [
    {
     "data": {
      "image/png": "[encoded data removed]",
      "text/plain": [
       "<Figure size 432x288 with 1 Axes>"
      ]
     },
     "metadata": {
      "needs_background": "light"
     },
     "output_type": "display_data"
    },
    {
     "data": {
      "image/png": "[encoded data removed]",
      "text/plain": [
       "<Figure size 432x288 with 1 Axes>"
      ]
     },
     "metadata": {
      "needs_background": "light"
     },
     "output_type": "display_data"
    },
    {
     "data": {
      "image/png": "[encoded data removed]",
      "text/plain": [
       "<Figure size 432x288 with 1 Axes>"
      ]
     },
     "metadata": {
      "needs_background": "light"
     },
     "output_type": "display_data"
    },
    {
     "data": {
      "image/png": "[encoded data removed]",
      "text/plain": [
       "<Figure size 432x288 with 1 Axes>"
      ]
     },
     "metadata": {
      "needs_background": "light"
     },
     "output_type": "display_data"
    },
    {
     "data": {
      "image/png": "[encoded data removed]",
      "text/plain": [
       "<Figure size 432x288 with 1 Axes>"
      ]
     },
     "metadata": {
      "needs_background": "light"
     },
     "output_type": "display_data"
    },
    {
     "data": {
      "image/png": "[encoded data removed]",
      "text/plain": [
       "<Figure size 432x288 with 1 Axes>"
      ]
     },
     "metadata": {
      "needs_background": "light"
     },
     "output_type": "display_data"
    }
   ],
   "source": [
    "for i in numeric: \n",
    "    sns.distplot(df[i])\n",
    "    plt.show()"
   ]
  },
  {
   "cell_type": "markdown",
   "metadata": {},
   "source": [
    "Finding: \n",
    "+ average project added in each session is 1.62;\n",
    "+ average likes given in each session is 10.42; \n",
    "+ average comment given in each session is 2.40; \n",
    "+ average inactivate duration is 733s; \n",
    "+ average bugs in each session is 1.23; \n",
    "+ average session duration is 1186s; "
   ]
  },
  {
   "cell_type": "markdown",
   "metadata": {},
   "source": [
    "### 3.3.2 Correlation Analysis "
   ]
  },
  {
   "cell_type": "code",
   "execution_count": 68,
   "metadata": {},
   "outputs": [
    {
     "data": {
      "text/html": [
       "<div>\n",
       "<style scoped>\n",
       "    .dataframe tbody tr th:only-of-type {\n",
       "        vertical-align: middle;\n",
       "    }\n",
       "\n",
       "    .dataframe tbody tr th {\n",
       "        vertical-align: top;\n",
       "    }\n",
       "\n",
       "    .dataframe thead th {\n",
       "        text-align: right;\n",
       "    }\n",
       "</style>\n",
       "<table border=\"1\" class=\"dataframe\">\n",
       "  <thead>\n",
       "    <tr style=\"text-align: right;\">\n",
       "      <th></th>\n",
       "      <th>session_projects_added</th>\n",
       "      <th>session_likes_given</th>\n",
       "      <th>session_comments_given</th>\n",
       "      <th>inactive_duration</th>\n",
       "      <th>bugs_in_session</th>\n",
       "      <th>session_duration</th>\n",
       "    </tr>\n",
       "  </thead>\n",
       "  <tbody>\n",
       "    <tr>\n",
       "      <th>session_projects_added</th>\n",
       "      <td>1.000000</td>\n",
       "      <td>-0.015793</td>\n",
       "      <td>-0.065376</td>\n",
       "      <td>0.001463</td>\n",
       "      <td>-0.039062</td>\n",
       "      <td>0.016803</td>\n",
       "    </tr>\n",
       "    <tr>\n",
       "      <th>session_likes_given</th>\n",
       "      <td>-0.015793</td>\n",
       "      <td>1.000000</td>\n",
       "      <td>0.049510</td>\n",
       "      <td>-0.077925</td>\n",
       "      <td>0.035207</td>\n",
       "      <td>-0.050826</td>\n",
       "    </tr>\n",
       "    <tr>\n",
       "      <th>session_comments_given</th>\n",
       "      <td>-0.065376</td>\n",
       "      <td>0.049510</td>\n",
       "      <td>1.000000</td>\n",
       "      <td>0.011265</td>\n",
       "      <td>-0.019868</td>\n",
       "      <td>0.011491</td>\n",
       "    </tr>\n",
       "    <tr>\n",
       "      <th>inactive_duration</th>\n",
       "      <td>0.001463</td>\n",
       "      <td>-0.077925</td>\n",
       "      <td>0.011265</td>\n",
       "      <td>1.000000</td>\n",
       "      <td>0.135774</td>\n",
       "      <td>0.070804</td>\n",
       "    </tr>\n",
       "    <tr>\n",
       "      <th>bugs_in_session</th>\n",
       "      <td>-0.039062</td>\n",
       "      <td>0.035207</td>\n",
       "      <td>-0.019868</td>\n",
       "      <td>0.135774</td>\n",
       "      <td>1.000000</td>\n",
       "      <td>-0.029071</td>\n",
       "    </tr>\n",
       "    <tr>\n",
       "      <th>session_duration</th>\n",
       "      <td>0.016803</td>\n",
       "      <td>-0.050826</td>\n",
       "      <td>0.011491</td>\n",
       "      <td>0.070804</td>\n",
       "      <td>-0.029071</td>\n",
       "      <td>1.000000</td>\n",
       "    </tr>\n",
       "  </tbody>\n",
       "</table>\n",
       "</div>"
      ],
      "text/plain": [
       "                        session_projects_added  session_likes_given  \\\n",
       "session_projects_added                1.000000            -0.015793   \n",
       "session_likes_given                  -0.015793             1.000000   \n",
       "session_comments_given               -0.065376             0.049510   \n",
       "inactive_duration                     0.001463            -0.077925   \n",
       "bugs_in_session                      -0.039062             0.035207   \n",
       "session_duration                      0.016803            -0.050826   \n",
       "\n",
       "                        session_comments_given  inactive_duration  \\\n",
       "session_projects_added               -0.065376           0.001463   \n",
       "session_likes_given                   0.049510          -0.077925   \n",
       "session_comments_given                1.000000           0.011265   \n",
       "inactive_duration                     0.011265           1.000000   \n",
       "bugs_in_session                      -0.019868           0.135774   \n",
       "session_duration                      0.011491           0.070804   \n",
       "\n",
       "                        bugs_in_session  session_duration  \n",
       "session_projects_added        -0.039062          0.016803  \n",
       "session_likes_given            0.035207         -0.050826  \n",
       "session_comments_given        -0.019868          0.011491  \n",
       "inactive_duration              0.135774          0.070804  \n",
       "bugs_in_session                1.000000         -0.029071  \n",
       "session_duration              -0.029071          1.000000  "
      ]
     },
     "execution_count": 68,
     "metadata": {},
     "output_type": "execute_result"
    }
   ],
   "source": [
    "corr = df[numeric].corr()\n",
    "corr"
   ]
  },
  {
   "cell_type": "code",
   "execution_count": 67,
   "metadata": {
    "scrolled": true
   },
   "outputs": [
    {
     "data": {
      "text/plain": [
       "<matplotlib.axes._subplots.AxesSubplot at 0x2315d211860>"
      ]
     },
     "execution_count": 67,
     "metadata": {},
     "output_type": "execute_result"
    },
    {
     "data": {
      "image/png": "[encoded data removed]",
      "text/plain": [
       "<Figure size 432x288 with 2 Axes>"
      ]
     },
     "metadata": {
      "needs_background": "light"
     },
     "output_type": "display_data"
    }
   ],
   "source": [
    "sns.heatmap(corr)\n"
   ]
  },
  {
   "cell_type": "markdown",
   "metadata": {},
   "source": [
    "Finding: \n",
    "+ There's no sinificant correlation between numeric variables. "
   ]
  },
  {
   "cell_type": "markdown",
   "metadata": {},
   "source": [
    "# 4. Define User Engagement Metric "
   ]
  },
  {
   "cell_type": "code",
   "execution_count": 83,
   "metadata": {},
   "outputs": [],
   "source": [
    "# define interaction: Whether a customers has any interations, such as posting, liking or commenting. \n",
    "df['Has_interaction'] = np.any(df['projects_added']& df['likes_given']&df['comment_given'])"
   ]
  },
  {
   "cell_type": "code",
   "execution_count": 85,
   "metadata": {
    "scrolled": false
   },
   "outputs": [
    {
     "data": {
      "text/html": [
       "<div>\n",
       "<style scoped>\n",
       "    .dataframe tbody tr th:only-of-type {\n",
       "        vertical-align: middle;\n",
       "    }\n",
       "\n",
       "    .dataframe tbody tr th {\n",
       "        vertical-align: top;\n",
       "    }\n",
       "\n",
       "    .dataframe thead th {\n",
       "        text-align: right;\n",
       "    }\n",
       "</style>\n",
       "<table border=\"1\" class=\"dataframe\">\n",
       "  <thead>\n",
       "    <tr style=\"text-align: right;\">\n",
       "      <th></th>\n",
       "      <th>session_id</th>\n",
       "      <th>customer_id</th>\n",
       "      <th>login_date</th>\n",
       "      <th>projects_added</th>\n",
       "      <th>likes_given</th>\n",
       "      <th>comment_given</th>\n",
       "      <th>inactive_status</th>\n",
       "      <th>bug_occured</th>\n",
       "      <th>session_projects_added</th>\n",
       "      <th>session_likes_given</th>\n",
       "      <th>session_comments_given</th>\n",
       "      <th>inactive_duration</th>\n",
       "      <th>bugs_in_session</th>\n",
       "      <th>session_duration</th>\n",
       "      <th>Has_interaction</th>\n",
       "    </tr>\n",
       "  </thead>\n",
       "  <tbody>\n",
       "    <tr>\n",
       "      <th>0</th>\n",
       "      <td>624205</td>\n",
       "      <td>80746</td>\n",
       "      <td>2019-10-30</td>\n",
       "      <td>False</td>\n",
       "      <td>True</td>\n",
       "      <td>True</td>\n",
       "      <td>True</td>\n",
       "      <td>False</td>\n",
       "      <td>0</td>\n",
       "      <td>24.0</td>\n",
       "      <td>3</td>\n",
       "      <td>1146</td>\n",
       "      <td>0</td>\n",
       "      <td>1564</td>\n",
       "      <td>True</td>\n",
       "    </tr>\n",
       "    <tr>\n",
       "      <th>1</th>\n",
       "      <td>624241</td>\n",
       "      <td>24520</td>\n",
       "      <td>2019-10-30</td>\n",
       "      <td>True</td>\n",
       "      <td>True</td>\n",
       "      <td>True</td>\n",
       "      <td>True</td>\n",
       "      <td>False</td>\n",
       "      <td>2</td>\n",
       "      <td>3.0</td>\n",
       "      <td>5</td>\n",
       "      <td>133</td>\n",
       "      <td>0</td>\n",
       "      <td>1766</td>\n",
       "      <td>True</td>\n",
       "    </tr>\n",
       "    <tr>\n",
       "      <th>2</th>\n",
       "      <td>111002</td>\n",
       "      <td>32047</td>\n",
       "      <td>2019-10-30</td>\n",
       "      <td>True</td>\n",
       "      <td>True</td>\n",
       "      <td>True</td>\n",
       "      <td>True</td>\n",
       "      <td>False</td>\n",
       "      <td>1</td>\n",
       "      <td>5.0</td>\n",
       "      <td>5</td>\n",
       "      <td>1571</td>\n",
       "      <td>0</td>\n",
       "      <td>2230</td>\n",
       "      <td>True</td>\n",
       "    </tr>\n",
       "    <tr>\n",
       "      <th>3</th>\n",
       "      <td>545113</td>\n",
       "      <td>23404</td>\n",
       "      <td>2019-10-30</td>\n",
       "      <td>True</td>\n",
       "      <td>True</td>\n",
       "      <td>True</td>\n",
       "      <td>False</td>\n",
       "      <td>False</td>\n",
       "      <td>1</td>\n",
       "      <td>10.0</td>\n",
       "      <td>21</td>\n",
       "      <td>0</td>\n",
       "      <td>0</td>\n",
       "      <td>633</td>\n",
       "      <td>True</td>\n",
       "    </tr>\n",
       "    <tr>\n",
       "      <th>4</th>\n",
       "      <td>750269</td>\n",
       "      <td>40235</td>\n",
       "      <td>2019-10-30</td>\n",
       "      <td>True</td>\n",
       "      <td>True</td>\n",
       "      <td>False</td>\n",
       "      <td>True</td>\n",
       "      <td>False</td>\n",
       "      <td>3</td>\n",
       "      <td>16.0</td>\n",
       "      <td>0</td>\n",
       "      <td>1405</td>\n",
       "      <td>0</td>\n",
       "      <td>1679</td>\n",
       "      <td>True</td>\n",
       "    </tr>\n",
       "  </tbody>\n",
       "</table>\n",
       "</div>"
      ],
      "text/plain": [
       "   session_id  customer_id login_date  projects_added  likes_given  \\\n",
       "0      624205        80746 2019-10-30           False         True   \n",
       "1      624241        24520 2019-10-30            True         True   \n",
       "2      111002        32047 2019-10-30            True         True   \n",
       "3      545113        23404 2019-10-30            True         True   \n",
       "4      750269        40235 2019-10-30            True         True   \n",
       "\n",
       "   comment_given  inactive_status  bug_occured  session_projects_added  \\\n",
       "0           True             True        False                       0   \n",
       "1           True             True        False                       2   \n",
       "2           True             True        False                       1   \n",
       "3           True            False        False                       1   \n",
       "4          False             True        False                       3   \n",
       "\n",
       "   session_likes_given  session_comments_given  inactive_duration  \\\n",
       "0                 24.0                       3               1146   \n",
       "1                  3.0                       5                133   \n",
       "2                  5.0                       5               1571   \n",
       "3                 10.0                      21                  0   \n",
       "4                 16.0                       0               1405   \n",
       "\n",
       "   bugs_in_session  session_duration  Has_interaction  \n",
       "0                0              1564             True  \n",
       "1                0              1766             True  \n",
       "2                0              2230             True  \n",
       "3                0               633             True  \n",
       "4                0              1679             True  "
      ]
     },
     "execution_count": 85,
     "metadata": {},
     "output_type": "execute_result"
    }
   ],
   "source": [
    "df.head(5)"
   ]
  },
  {
   "cell_type": "markdown",
   "metadata": {},
   "source": [
    "As the company goal is to build a platform that encourages users to share, exchange ideas, connect, and learn from other users, so we define the engagement as the proportion of users who has at least one interation on two different days in the month. This metrics is not only describe interactions but also customer retention. "
   ]
  },
  {
   "cell_type": "code",
   "execution_count": 105,
   "metadata": {
    "scrolled": true
   },
   "outputs": [
    {
     "data": {
      "text/plain": [
       "customer_id\n",
       "10246     True\n",
       "12407     True\n",
       "12496     True\n",
       "12940     True\n",
       "14354     True\n",
       "19348    False\n",
       "19374    False\n",
       "20548    False\n",
       "23083     True\n",
       "23404     True\n",
       "23457    False\n",
       "23548    False\n",
       "23579     True\n",
       "23596    False\n",
       "23985     True\n",
       "24520     True\n",
       "29345    False\n",
       "29356     True\n",
       "29375     True\n",
       "32047     True\n",
       "33496    False\n",
       "34574     True\n",
       "38459     True\n",
       "39475     True\n",
       "40235     True\n",
       "40572     True\n",
       "43057     True\n",
       "43086     True\n",
       "43096    False\n",
       "43549     True\n",
       "43658    False\n",
       "46329    False\n",
       "51243     True\n",
       "68754    False\n",
       "73245     True\n",
       "73524     True\n",
       "76530    False\n",
       "80746     True\n",
       "82963    False\n",
       "87265     True\n",
       "87323     True\n",
       "92736    False\n",
       "93464     True\n",
       "93486    False\n",
       "96254     True\n",
       "98346    False\n",
       "98476    False\n",
       "98653     True\n",
       "Name: login_date, dtype: bool"
      ]
     },
     "execution_count": 105,
     "metadata": {},
     "output_type": "execute_result"
    }
   ],
   "source": [
    "interaction = df.loc[df['Has_interaction'] ==True]\n",
    "engaged_user = interaction.groupby('customer_id')['login_date'].count() >= 2\n",
    "engaged_user"
   ]
  },
  {
   "cell_type": "code",
   "execution_count": 107,
   "metadata": {},
   "outputs": [
    {
     "data": {
      "text/plain": [
       "0.625"
      ]
     },
     "execution_count": 107,
     "metadata": {},
     "output_type": "execute_result"
    }
   ],
   "source": [
    "engaged_user.sum()/engaged_user.count()\n",
    "# 62.5% of the users are engaged"
   ]
  },
  {
   "cell_type": "code",
   "execution_count": 117,
   "metadata": {},
   "outputs": [
    {
     "data": {
      "text/html": [
       "<div>\n",
       "<style scoped>\n",
       "    .dataframe tbody tr th:only-of-type {\n",
       "        vertical-align: middle;\n",
       "    }\n",
       "\n",
       "    .dataframe tbody tr th {\n",
       "        vertical-align: top;\n",
       "    }\n",
       "\n",
       "    .dataframe thead th {\n",
       "        text-align: right;\n",
       "    }\n",
       "</style>\n",
       "<table border=\"1\" class=\"dataframe\">\n",
       "  <thead>\n",
       "    <tr style=\"text-align: right;\">\n",
       "      <th></th>\n",
       "      <th>session_id</th>\n",
       "      <th>customer_id</th>\n",
       "      <th>login_date</th>\n",
       "      <th>projects_added</th>\n",
       "      <th>likes_given</th>\n",
       "      <th>comment_given</th>\n",
       "      <th>inactive_status</th>\n",
       "      <th>bug_occured</th>\n",
       "      <th>session_projects_added</th>\n",
       "      <th>session_likes_given</th>\n",
       "      <th>session_comments_given</th>\n",
       "      <th>inactive_duration</th>\n",
       "      <th>bugs_in_session</th>\n",
       "      <th>session_duration</th>\n",
       "      <th>Has_interaction</th>\n",
       "      <th>engaged</th>\n",
       "    </tr>\n",
       "  </thead>\n",
       "  <tbody>\n",
       "    <tr>\n",
       "      <th>0</th>\n",
       "      <td>624205</td>\n",
       "      <td>80746</td>\n",
       "      <td>2019-10-30</td>\n",
       "      <td>False</td>\n",
       "      <td>True</td>\n",
       "      <td>True</td>\n",
       "      <td>True</td>\n",
       "      <td>False</td>\n",
       "      <td>0</td>\n",
       "      <td>24.0</td>\n",
       "      <td>3</td>\n",
       "      <td>1146</td>\n",
       "      <td>0</td>\n",
       "      <td>1564</td>\n",
       "      <td>True</td>\n",
       "      <td>True</td>\n",
       "    </tr>\n",
       "    <tr>\n",
       "      <th>1</th>\n",
       "      <td>624241</td>\n",
       "      <td>24520</td>\n",
       "      <td>2019-10-30</td>\n",
       "      <td>True</td>\n",
       "      <td>True</td>\n",
       "      <td>True</td>\n",
       "      <td>True</td>\n",
       "      <td>False</td>\n",
       "      <td>2</td>\n",
       "      <td>3.0</td>\n",
       "      <td>5</td>\n",
       "      <td>133</td>\n",
       "      <td>0</td>\n",
       "      <td>1766</td>\n",
       "      <td>True</td>\n",
       "      <td>True</td>\n",
       "    </tr>\n",
       "    <tr>\n",
       "      <th>2</th>\n",
       "      <td>111002</td>\n",
       "      <td>32047</td>\n",
       "      <td>2019-10-30</td>\n",
       "      <td>True</td>\n",
       "      <td>True</td>\n",
       "      <td>True</td>\n",
       "      <td>True</td>\n",
       "      <td>False</td>\n",
       "      <td>1</td>\n",
       "      <td>5.0</td>\n",
       "      <td>5</td>\n",
       "      <td>1571</td>\n",
       "      <td>0</td>\n",
       "      <td>2230</td>\n",
       "      <td>True</td>\n",
       "      <td>True</td>\n",
       "    </tr>\n",
       "    <tr>\n",
       "      <th>3</th>\n",
       "      <td>545113</td>\n",
       "      <td>23404</td>\n",
       "      <td>2019-10-30</td>\n",
       "      <td>True</td>\n",
       "      <td>True</td>\n",
       "      <td>True</td>\n",
       "      <td>False</td>\n",
       "      <td>False</td>\n",
       "      <td>1</td>\n",
       "      <td>10.0</td>\n",
       "      <td>21</td>\n",
       "      <td>0</td>\n",
       "      <td>0</td>\n",
       "      <td>633</td>\n",
       "      <td>True</td>\n",
       "      <td>True</td>\n",
       "    </tr>\n",
       "    <tr>\n",
       "      <th>4</th>\n",
       "      <td>750269</td>\n",
       "      <td>40235</td>\n",
       "      <td>2019-10-30</td>\n",
       "      <td>True</td>\n",
       "      <td>True</td>\n",
       "      <td>False</td>\n",
       "      <td>True</td>\n",
       "      <td>False</td>\n",
       "      <td>3</td>\n",
       "      <td>16.0</td>\n",
       "      <td>0</td>\n",
       "      <td>1405</td>\n",
       "      <td>0</td>\n",
       "      <td>1679</td>\n",
       "      <td>True</td>\n",
       "      <td>True</td>\n",
       "    </tr>\n",
       "  </tbody>\n",
       "</table>\n",
       "</div>"
      ],
      "text/plain": [
       "   session_id  customer_id login_date  projects_added  likes_given  \\\n",
       "0      624205        80746 2019-10-30           False         True   \n",
       "1      624241        24520 2019-10-30            True         True   \n",
       "2      111002        32047 2019-10-30            True         True   \n",
       "3      545113        23404 2019-10-30            True         True   \n",
       "4      750269        40235 2019-10-30            True         True   \n",
       "\n",
       "   comment_given  inactive_status  bug_occured  session_projects_added  \\\n",
       "0           True             True        False                       0   \n",
       "1           True             True        False                       2   \n",
       "2           True             True        False                       1   \n",
       "3           True            False        False                       1   \n",
       "4          False             True        False                       3   \n",
       "\n",
       "   session_likes_given  session_comments_given  inactive_duration  \\\n",
       "0                 24.0                       3               1146   \n",
       "1                  3.0                       5                133   \n",
       "2                  5.0                       5               1571   \n",
       "3                 10.0                      21                  0   \n",
       "4                 16.0                       0               1405   \n",
       "\n",
       "   bugs_in_session  session_duration  Has_interaction  engaged  \n",
       "0                0              1564             True     True  \n",
       "1                0              1766             True     True  \n",
       "2                0              2230             True     True  \n",
       "3                0               633             True     True  \n",
       "4                0              1679             True     True  "
      ]
     },
     "execution_count": 117,
     "metadata": {},
     "output_type": "execute_result"
    }
   ],
   "source": [
    "engage_df = pd.DataFrame(engaged_user).reset_index()\n",
    "engage_df = engage_df.rename(columns = {'login_date':'engaged'})\n",
    "merge_df = df.merge(engage_df, on = 'customer_id', how = 'left')\n",
    "merge_df.head(5)"
   ]
  },
  {
   "cell_type": "code",
   "execution_count": 86,
   "metadata": {},
   "outputs": [],
   "source": [
    "merge_df.to_csv(\"clean_df.csv\")"
   ]
  },
  {
   "cell_type": "code",
   "execution_count": null,
   "metadata": {},
   "outputs": [],
   "source": []
  }
 ],
 "metadata": {
  "kernelspec": {
   "display_name": "Python 3",
   "language": "python",
   "name": "python3"
  },
  "language_info": {
   "codemirror_mode": {
    "name": "ipython",
    "version": 3
   },
   "file_extension": ".py",
   "mimetype": "text/x-python",
   "name": "python",
   "nbconvert_exporter": "python",
   "pygments_lexer": "ipython3",
   "version": "3.7.3"
  }
 },
 "nbformat": 4,
 "nbformat_minor": 2
}
